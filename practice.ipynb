{
 "cells": [
  {
   "cell_type": "code",
   "execution_count": 2,
   "metadata": {},
   "outputs": [
    {
     "name": "stdout",
     "output_type": "stream",
     "text": [
      "[[2 3 2 9]\n",
      " [6 1 8 4]\n",
      " [8 9 6 3]]\n",
      "   col1  col2  col3  col4\n",
      "0     2     3     2     9\n",
      "1     6     1     8     4\n",
      "2     8     9     6     3\n"
     ]
    }
   ],
   "source": [
    "import numpy as np\n",
    "import pandas as pd\n"
   ]
  },
  {
   "cell_type": "code",
   "execution_count": 5,
   "metadata": {},
   "outputs": [
    {
     "name": "stdout",
     "output_type": "stream",
     "text": [
      "[[ 1  2  3  4]\n",
      " [ 5  6  7  8]\n",
      " [ 9 10 11 12]]\n",
      "   a   b   c   d\n",
      "0  1   2   3   4\n",
      "1  5   6   7   8\n",
      "2  9  10  11  12\n",
      "    b   c  f  g  h\n",
      "0   2   3  0  0  0\n",
      "1   6   7  0  0  0\n",
      "2  10  11  0  0  0\n"
     ]
    }
   ],
   "source": [
    "values = np.array([[1, 2, 3, 4], [5, 6, 7, 8], [9, 10, 11, 12]])\n",
    "print(values)\n",
    "words = ['a', 'b', 'c', 'd']\n",
    "\n",
    "tfidf_before_keywords = pd.DataFrame(values, columns=words)\n",
    "print(tfidf_before_keywords)\n",
    "\n",
    "keywords = ['b', 'c', 'f', 'g', 'h']\n",
    "\n",
    "# 新しいDataFrameを作成\n",
    "tfidf = pd.DataFrame()\n",
    "\n",
    "for col in keywords:\n",
    "    if col in tfidf_before_keywords.columns:\n",
    "        tfidf[col] = tfidf_before_keywords[col]\n",
    "    else:\n",
    "        tfidf[col] = 0\n",
    "\n",
    "print(tfidf)"
   ]
  },
  {
   "cell_type": "code",
   "execution_count": 6,
   "metadata": {},
   "outputs": [
    {
     "name": "stdout",
     "output_type": "stream",
     "text": [
      "Epoch 1/10\n",
      "32/32 [==============================] - 1s 2ms/step - loss: 0.6942 - accuracy: 0.4890\n",
      "Epoch 2/10\n",
      "32/32 [==============================] - 0s 3ms/step - loss: 0.6923 - accuracy: 0.5050\n",
      "Epoch 3/10\n",
      "32/32 [==============================] - 0s 2ms/step - loss: 0.6919 - accuracy: 0.5040\n",
      "Epoch 4/10\n",
      "32/32 [==============================] - 0s 2ms/step - loss: 0.6920 - accuracy: 0.5210\n",
      "Epoch 5/10\n",
      "32/32 [==============================] - 0s 2ms/step - loss: 0.6916 - accuracy: 0.5230\n",
      "Epoch 6/10\n",
      "32/32 [==============================] - 0s 2ms/step - loss: 0.6914 - accuracy: 0.5330\n",
      "Epoch 7/10\n",
      "32/32 [==============================] - 0s 1ms/step - loss: 0.6924 - accuracy: 0.5120\n",
      "Epoch 8/10\n",
      "32/32 [==============================] - 0s 2ms/step - loss: 0.6912 - accuracy: 0.5100\n",
      "Epoch 9/10\n",
      "32/32 [==============================] - 0s 2ms/step - loss: 0.6912 - accuracy: 0.5140\n",
      "Epoch 10/10\n",
      "32/32 [==============================] - 0s 2ms/step - loss: 0.6916 - accuracy: 0.5300\n",
      "4/4 - 0s - loss: 0.6950 - accuracy: 0.4400 - 160ms/epoch - 40ms/step\n",
      "\n",
      "Test accuracy: 0.4399999976158142\n",
      "4/4 [==============================] - 0s 2ms/step\n",
      "[1 0 0 1 0 0 1 0 0 0 0 0 1 0 0 0 0 0 0 0 1 0 1 0 1 0 0 0 0 0 0 0 1 1 0 1 1\n",
      " 1 0 0 0 0 1 1 0 1 0 0 1 1 0 1 0 0 0 0 0 0 1 0 0 0 0 1 0 0 0 0 1 0 0 0 1 0\n",
      " 0 0 0 1 1 0 0 0 0 0 0 1 0 0 0 1 1 0 1 0 0 0 0 0 0 0]\n"
     ]
    }
   ],
   "source": [
    "import numpy as np\n",
    "import tensorflow as tf\n",
    "from tensorflow import keras\n",
    "\n",
    "# データセットのサンプルを作成\n",
    "X_train = np.random.rand(1000, 3)\n",
    "y_train = np.random.randint(2, size=1000)  # 0または1のラベルを持つサンプルデータ\n",
    "\n",
    "X_test = np.random.rand(100, 3)\n",
    "y_test = np.random.randint(2, size=100)\n",
    "\n",
    "# モデルの定義\n",
    "model = keras.Sequential([\n",
    "    keras.layers.Dense(128, activation='relu', input_shape=(3,)),  # 入力層\n",
    "    keras.layers.Dense(2, activation='softmax')  # 2クラス分類のための出力層\n",
    "])\n",
    "\n",
    "# モデルのコンパイル\n",
    "model.compile(optimizer='adam',\n",
    "              loss='sparse_categorical_crossentropy',\n",
    "              metrics=['accuracy'])\n",
    "\n",
    "# モデルのトレーニング\n",
    "model.fit(X_train, y_train, epochs=10)\n",
    "\n",
    "# テストデータでの評価\n",
    "test_loss, test_acc = model.evaluate(X_test, y_test, verbose=2)\n",
    "print('\\nTest accuracy:', test_acc)\n",
    "\n",
    "# 予測\n",
    "predictions = model.predict(X_test)\n",
    "predicted_labels = np.argmax(predictions, axis=1)\n",
    "print(predicted_labels)\n"
   ]
  }
 ],
 "metadata": {
  "kernelspec": {
   "display_name": "base",
   "language": "python",
   "name": "python3"
  },
  "language_info": {
   "codemirror_mode": {
    "name": "ipython",
    "version": 3
   },
   "file_extension": ".py",
   "mimetype": "text/x-python",
   "name": "python",
   "nbconvert_exporter": "python",
   "pygments_lexer": "ipython3",
   "version": "3.8.8"
  },
  "orig_nbformat": 4
 },
 "nbformat": 4,
 "nbformat_minor": 2
}
